{
 "cells": [
  {
   "cell_type": "markdown",
   "metadata": {},
   "source": [
    "Name - Arihant Jain; \n",
    "Roll Number - 170610007004; \n",
    "Video Assignment 1"
   ]
  },
  {
   "cell_type": "code",
   "execution_count": 10,
   "metadata": {},
   "outputs": [],
   "source": [
    "#importing all the necessary libraries\n",
    "import numpy as np\n",
    "import pandas as pd\n",
    "from sklearn.decomposition import PCA\n",
    "from sklearn.preprocessing import StandardScaler\n",
    "import seaborn as sns\n",
    "import matplotlib.pyplot as plt"
   ]
  },
  {
   "cell_type": "code",
   "execution_count": 11,
   "metadata": {},
   "outputs": [],
   "source": [
    "#dataset imported using pandas and stored in a variable name df\n",
    "df = pd.read_csv(\"PCA_practice_dataset.csv\")"
   ]
  },
  {
   "cell_type": "code",
   "execution_count": 15,
   "metadata": {},
   "outputs": [],
   "source": [
    "#df is converted to numpy array and named df_np so that it can be used with standard scalr and fit it using fit_transform\n",
    "#The mean is set to 0 and standard deviation is set to 1 for applying PCA\n",
    "df_np = df.to_numpy()\n",
    "sc = StandardScaler()\n",
    "df_np = sc.fit_transform(df_np)"
   ]
  },
  {
   "cell_type": "code",
   "execution_count": 18,
   "metadata": {},
   "outputs": [
    {
     "name": "stdout",
     "output_type": "stream",
     "text": [
      "components required for 90% threshold are : 2\n",
      "components required for 91% threshold are : 2\n",
      "components required for 92% threshold are : 3\n",
      "components required for 93% threshold are : 3\n",
      "components required for 94% threshold are : 4\n",
      "components required for 95% threshold are : 4\n",
      "components required for 96% threshold are : 5\n",
      "components required for 97% threshold are : 6\n"
     ]
    }
   ],
   "source": [
    "#PCA is used here in our numpy array df_np\n",
    "pca = PCA()\n",
    "df_np = pca.fit_transform(df_np)\n",
    "\n",
    "#cv = Cumulative Variance\n",
    "#In cv we have stored the sum of eigen values for all eigen vectors \n",
    "cv = np.cumsum( pca.explained_variance_ratio_ )*100\n",
    "\n",
    "#Now we define and store the values of thresgold limits defined in the question set\n",
    "threshold = [ i for i in range( 90 , 97 + 1, 1 ) ] #setting the threshold given to us in the question\n",
    "component = [ np.argmax( cv > ThresHold ) for ThresHold in threshold ] #comparing  threshold with the cummulative frequency\n",
    "\n",
    "for Component, ThresHold in zip(component, threshold):\n",
    "    print(\"components required for {}% threshold are : {}\".format(ThresHold,Component))"
   ]
  },
  {
   "cell_type": "code",
   "execution_count": 28,
   "metadata": {},
   "outputs": [
    {
     "data": {
      "image/png": "[encoded data removed]",
      "text/plain": [
       "<Figure size 432x288 with 1 Axes>"
      ]
     },
     "metadata": {
      "needs_background": "light"
     },
     "output_type": "display_data"
    }
   ],
   "source": [
    "#Plotting the Scree Plot\n",
    "plt.plot(component, range(90,97+1,1), 'o-', linewidth=2)\n",
    "plt.title(\"Scree_Plot\")\n",
    "plt.xlabel(\"Principal_Component\")\n",
    "plt.ylabel(\"Threshold in %\")\n",
    "plt.show()"
   ]
  },
  {
   "cell_type": "code",
   "execution_count": 31,
   "metadata": {
    "scrolled": true
   },
   "outputs": [
    {
     "name": "stdout",
     "output_type": "stream",
     "text": [
      "Dimensionality reduction to retain 90% threshold\n",
      "After Dimensionality Reduction, new shape of the dataset : (8041, 2) \n",
      "\n",
      "Dimensionality reduction to retain 91% threshold\n",
      "After Dimensionality Reduction, new shape of the dataset : (8041, 2) \n",
      "\n",
      "Dimensionality reduction to retain 92% threshold\n",
      "After Dimensionality Reduction, new shape of the dataset : (8041, 3) \n",
      "\n",
      "Dimensionality reduction to retain 93% threshold\n",
      "After Dimensionality Reduction, new shape of the dataset : (8041, 3) \n",
      "\n",
      "Dimensionality reduction to retain 94% threshold\n",
      "After Dimensionality Reduction, new shape of the dataset : (8041, 4) \n",
      "\n",
      "Dimensionality reduction to retain 95% threshold\n",
      "After Dimensionality Reduction, new shape of the dataset : (8041, 4) \n",
      "\n",
      "Dimensionality reduction to retain 96% threshold\n",
      "After Dimensionality Reduction, new shape of the dataset : (8041, 5) \n",
      "\n",
      "Dimensionality reduction to retain 97% threshold\n",
      "After Dimensionality Reduction, new shape of the dataset : (8041, 6) \n",
      "\n"
     ]
    }
   ],
   "source": [
    "#Principal components retained due to the thresholding\n",
    "\n",
    "df_np_orig = df_np #saved our original df_np\n",
    "\n",
    "for Component,var in zip(component,threshold):\n",
    "    pca = PCA(n_components = Component) #Number of components passed, which is required for each threshold.\n",
    "    df_np_transformed = pca.fit_transform(df_np_orig)  #We obtain reduced dimensionality dataset.\n",
    "    print(\"Dimensionality reduction to retain {}% threshold\".format(var))\n",
    "    print(\"After Dimensionality Reduction, new shape of the dataset :\",df_np_transformed.shape,\"\\n\")\n"
   ]
  }
 ],
 "metadata": {
  "kernelspec": {
   "display_name": "Python 3",
   "language": "python",
   "name": "python3"
  },
  "language_info": {
   "codemirror_mode": {
    "name": "ipython",
    "version": 3
   },
   "file_extension": ".py",
   "mimetype": "text/x-python",
   "name": "python",
   "nbconvert_exporter": "python",
   "pygments_lexer": "ipython3",
   "version": "3.6.9"
  }
 },
 "nbformat": 4,
 "nbformat_minor": 2
}
