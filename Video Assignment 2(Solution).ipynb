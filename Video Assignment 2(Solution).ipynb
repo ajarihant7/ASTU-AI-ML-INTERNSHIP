{
 "cells": [
  {
   "cell_type": "code",
   "execution_count": null,
   "metadata": {},
   "outputs": [],
   "source": [
    "#imported all the necessary libraries\n",
    "import numpy as np\n",
    "import matplotlib.image as mpimg\n",
    "import matplotlib.pyplot as plt \n",
    "import os\n",
    "import sys\n",
    "import cv2"
   ]
  },
  {
   "cell_type": "code",
   "execution_count": null,
   "metadata": {},
   "outputs": [],
   "source": [
    "#defined an initial function for setting up the value of mean and variance using the first image \n",
    "def initBackground(initImage):\n",
    "    img_arr = mpimg.imread(initImage)\n",
    "    mean = img_arr\n",
    "    variance = 9*np.ones(img_arr.shape) #taking 9 because pure square numbers give better results\n",
    "    return(mean,variance)"
   ]
  },
  {
   "cell_type": "code",
   "execution_count": null,
   "metadata": {},
   "outputs": [],
   "source": [
    "#taking parameters image, and previous mean and variance and lambda\n",
    "def ForegroundDetection(img_file,mean,variance,lmda):\n",
    "    img = cv2.imread(img_file) \n",
    "    d = img - mean\n",
    "    y = variance*(lmda**2)\n",
    "    d_2 = np.square(d)\n",
    "    I = d_2 - y\n",
    "    mask = np.all(I>0,axis=2) #taking axis 2 beacuse colored images have 3d matrix so channel is selected 2\n",
    "    rI = 255*mask.astype(int) #if mask is true the pushed in r1 list and typecasted int \n",
    "    rI = rI.astype(np.uint8) #typecasted to unsigned int\n",
    "    return(rI)"
   ]
  },
  {
   "cell_type": "code",
   "execution_count": null,
   "metadata": {},
   "outputs": [],
   "source": [
    "#here we compare the neighbouring values of the target value to determine the state(dark or white) of the target\n",
    "def Voting(rI,eta,m,n):\n",
    "    r,c = rI.shape #just storing the shape\n",
    "    cI = np.zeros((rI.shape[0],rI.shape[1]))  #defining  a matrix\n",
    "    for i in range(m,r-1-m):\n",
    "        for j in range(n,c-1-n):\n",
    "            img_patch = rI[i-m:i,j-n:j]\n",
    "            y_unq, counts = np.unique(img_patch,return_counts=True)\n",
    "            # if the length f counts is greater than 1 the we do comarison betwee second value of counts and eta*m*n\n",
    "            #and if the counts is greater than the pixel is white\n",
    "            if len(counts) == 1 and y_unq[0] == 255:\n",
    "                cI[i,j] = 255\n",
    "            if len(counts)>1:\n",
    "                if counts[1] > eta*m*n:\n",
    "                    cI[i,j] = 255\n",
    "    cI = cI.astype(np.uint8)\n",
    "    return cI"
   ]
  },
  {
   "cell_type": "code",
   "execution_count": null,
   "metadata": {},
   "outputs": [],
   "source": [
    "#here we update the values of mean and variance using the formula of background model update\n",
    "def meanvarUpdate(cI,img_path,M,V,alpha):\n",
    "    img = mpimg.imread(img_path)\n",
    "    mean_upd = np.zeros(img.shape)\n",
    "    var_upd = np.zeros(img.shape)\n",
    "    d = img - M\n",
    "    d_2 = np.square(d)\n",
    "    for i in range(cI.shape[0]):\n",
    "        for j in range(cI.shape[1]):\n",
    "            if cI[i,j] == 0:\n",
    "                mean_upd[i,j,:] = (1-alpha)*M[i,j,:] + alpha*img[i,j,:]\n",
    "                var_upd[i,j,:] = (1-alpha)*(V[i,j,:] + alpha*d_2[i,j,:])\n",
    "                var_upd[i,j,:] = np.clip(var_upd[i,j,:],a_min = 9,a_max = None)\n",
    "    return(mean_upd,var_upd)"
   ]
  },
  {
   "cell_type": "code",
   "execution_count": null,
   "metadata": {},
   "outputs": [],
   "source": [
    "#this is our master function where we call all the above defined functions\n",
    "def Background_Subtraction(img_dir,lmda,eta,m,n,alpha):\n",
    "    \n",
    "    img_file_name = os.listdir(img_dir)\n",
    "    sorted_img_file_name = sorted(img_file_name)\n",
    "    initImage = os.path.join(img_dir,sorted_img_file_name[0])\n",
    "    mean, variance = initBackground(initImage)\n",
    "   #above four lines we take the first image and pass it to init function to calculate initial mean and variance \n",
    "    for i in range(1,19):\n",
    "        img_path = os.path.join(img_dir,sorted_img_file_name[i])\n",
    "        \n",
    "        fig, ax = plt.subplots(1,3,figsize=(10,10))\n",
    "        rI = ForegroundDetection(img_path,mean,variance,lmda)\n",
    "        ax[0].imshow(rI,cmap=\"gray\")\n",
    "        \n",
    "        cI = Voting(rI,eta,m,n)\n",
    "        mean, variance = meanvarUpdate(cI,img_path,mean,variance,alpha)\n",
    "        ax[1].imshow(cI,cmap=\"gray\")\n",
    "        \n",
    "        img = cv2.imread(img_path)\n",
    "        ax[2].imshow(img,cmap=\"gray\")\n",
    "        \n",
    "        plt.show()\n",
    "    #in the above four loop  we pass the raw image, filtered image and the colored image in imraw\n",
    "    return(mean,variance)"
   ]
  },
  {
   "cell_type": "code",
   "execution_count": null,
   "metadata": {},
   "outputs": [],
   "source": [
    "eta=0.7\n",
    "lamda=0.8\n",
    "for i in range(11):\n",
    "    print('ETA = ',eta)\n",
    "    print('LAMBDA = ',lamda)\n",
    "    mean,variance = Background_Subtraction(\".\\AirStripVideoDataSetForBackGroundSubtraction\\AirStripVideo\\Images\",lamda,eta,8,8,0.8)\n",
    "    eta+=0.02\n",
    "    print('##########################################################')"
   ]
  },
  {
   "cell_type": "code",
   "execution_count": null,
   "metadata": {},
   "outputs": [],
   "source": [
    "eta=0.7\n",
    "lamda=0.7\n",
    "for i in range(11):\n",
    "    print('ETA = ',eta)\n",
    "    print('LAMBDA = ',lamda)\n",
    "    mean,variance = Background_Subtraction(\".\\AirStripVideoDataSetForBackGroundSubtraction\\AirStripVideo\\Images\",lamda,eta,8,8,0.8)\n",
    "    lamda+=0.02\n",
    "    print('#######################################################')"
   ]
  },
  {
   "cell_type": "code",
   "execution_count": null,
   "metadata": {},
   "outputs": [],
   "source": []
  }
 ],
 "metadata": {
  "kernelspec": {
   "display_name": "Python 3",
   "language": "python",
   "name": "python3"
  },
  "language_info": {
   "codemirror_mode": {
    "name": "ipython",
    "version": 3
   },
   "file_extension": ".py",
   "mimetype": "text/x-python",
   "name": "python",
   "nbconvert_exporter": "python",
   "pygments_lexer": "ipython3",
   "version": "3.6.9"
  }
 },
 "nbformat": 4,
 "nbformat_minor": 2
}
